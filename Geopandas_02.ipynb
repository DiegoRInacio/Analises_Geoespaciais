{
  "nbformat": 4,
  "nbformat_minor": 0,
  "metadata": {
    "colab": {
      "name": "Geopandas_02.ipynb",
      "provenance": [],
      "authorship_tag": "ABX9TyP3bdq5bZPPI+2t0CP+TvVp",
      "include_colab_link": true
    },
    "kernelspec": {
      "name": "python3",
      "display_name": "Python 3"
    },
    "language_info": {
      "name": "python"
    }
  },
  "cells": [
    {
      "cell_type": "markdown",
      "metadata": {
        "id": "view-in-github",
        "colab_type": "text"
      },
      "source": [
        "<a href=\"https://colab.research.google.com/github/DiegoRInacio/Analises_Geoespaciais/blob/main/Geopandas_02.ipynb\" target=\"_parent\"><img src=\"https://colab.research.google.com/assets/colab-badge.svg\" alt=\"Open In Colab\"/></a>"
      ]
    },
    {
      "cell_type": "markdown",
      "source": [
        "# Vamos analisr os dados através da biblioteca shpely\n",
        "\n",
        "Caso já tenha instalado o geopandas esse biblioteca já vem no pacote pois o Geopandas funciona com uma compilação de bibliotecas\n",
        "***\n",
        "### Importando bibliotecas"
      ],
      "metadata": {
        "id": "HriiZ8h2VCMy"
      }
    },
    {
      "cell_type": "code",
      "execution_count": null,
      "metadata": {
        "id": "9Gc4s2PwUkMo"
      },
      "outputs": [],
      "source": [
        "from shapely.geometry import Point, LineString, Polygon\n",
        "import matplotlib.pyplot as plt"
      ]
    },
    {
      "cell_type": "markdown",
      "source": [
        "# 1.1 Pontos\n",
        "\n",
        "Podem possuír duas coordenas ou três\n",
        "\n",
        "Sendo assim um pontos com duas coordenadas é um ponto bidimenssional\n",
        "Já um ponto com três informações de X,Y e Z é um ponto tridimenssional por ter a informação altimetrica"
      ],
      "metadata": {
        "id": "rZLs8n7iV7HL"
      }
    },
    {
      "cell_type": "code",
      "source": [
        "# criando uma variavel de ponto\n",
        "\n",
        "ponto = Point(5, 10)"
      ],
      "metadata": {
        "id": "XWz4IbDYW-kC"
      },
      "execution_count": null,
      "outputs": []
    },
    {
      "cell_type": "markdown",
      "source": [
        "Vamos ver o comportamento da variavel \"ponto\""
      ],
      "metadata": {
        "id": "7eLgm4auXMDJ"
      }
    },
    {
      "cell_type": "code",
      "source": [
        "ponto"
      ],
      "metadata": {
        "colab": {
          "base_uri": "https://localhost:8080/",
          "height": 121
        },
        "id": "SANICjv1XIyQ",
        "outputId": "e5efcfc6-60a8-4136-b0dc-bfc85a84edeb"
      },
      "execution_count": null,
      "outputs": [
        {
          "output_type": "execute_result",
          "data": {
            "text/plain": [
              "<shapely.geometry.point.Point at 0x7f28387dbb10>"
            ],
            "image/svg+xml": "<svg xmlns=\"http://www.w3.org/2000/svg\" xmlns:xlink=\"http://www.w3.org/1999/xlink\" width=\"100.0\" height=\"100.0\" viewBox=\"4.0 9.0 2.0 2.0\" preserveAspectRatio=\"xMinYMin meet\"><g transform=\"matrix(1,0,0,-1,0,20.0)\"><circle cx=\"5.0\" cy=\"10.0\" r=\"0.06\" stroke=\"#555555\" stroke-width=\"0.02\" fill=\"#66cc99\" opacity=\"0.6\" /></g></svg>"
          },
          "metadata": {},
          "execution_count": 4
        }
      ]
    },
    {
      "cell_type": "markdown",
      "source": [
        "Vamos ver o tipo do objeto para ver a sua definição"
      ],
      "metadata": {
        "id": "ehqFJU0tXbWr"
      }
    },
    {
      "cell_type": "code",
      "source": [
        "print(ponto)"
      ],
      "metadata": {
        "colab": {
          "base_uri": "https://localhost:8080/"
        },
        "id": "aHY8tkniXYw2",
        "outputId": "a879ac5f-5ad1-42c9-873f-e17c38497407"
      },
      "execution_count": null,
      "outputs": [
        {
          "output_type": "stream",
          "name": "stdout",
          "text": [
            "POINT (5 10)\n"
          ]
        }
      ]
    },
    {
      "cell_type": "code",
      "source": [
        "type(ponto)"
      ],
      "metadata": {
        "colab": {
          "base_uri": "https://localhost:8080/"
        },
        "id": "w_tSA_BrXluP",
        "outputId": "5621a596-cb1e-4d9f-e4f5-741cc963431c"
      },
      "execution_count": null,
      "outputs": [
        {
          "output_type": "execute_result",
          "data": {
            "text/plain": [
              "shapely.geometry.point.Point"
            ]
          },
          "metadata": {},
          "execution_count": 6
        }
      ]
    },
    {
      "cell_type": "code",
      "source": [
        ""
      ],
      "metadata": {
        "id": "Tdp4xP8BXrPf"
      },
      "execution_count": null,
      "outputs": []
    },
    {
      "cell_type": "markdown",
      "source": [
        "# Ponto tem atributos e funções\n",
        "\n",
        "Atibutos = informações detalhadas como caracteriticas do local informado\n",
        "\n",
        "Funções = Medir distâncias entre outras funções importantes para ser realizadas"
      ],
      "metadata": {
        "id": "jol2MQaXXy_6"
      }
    },
    {
      "cell_type": "code",
      "source": [
        "#Utilizando a função coords\n",
        "\n",
        "list(ponto.coords)"
      ],
      "metadata": {
        "colab": {
          "base_uri": "https://localhost:8080/"
        },
        "id": "4opo_dleYEf2",
        "outputId": "865ee904-b601-46ad-90d9-2e31984a3236"
      },
      "execution_count": null,
      "outputs": [
        {
          "output_type": "execute_result",
          "data": {
            "text/plain": [
              "[(5.0, 10.0)]"
            ]
          },
          "metadata": {},
          "execution_count": 7
        }
      ]
    },
    {
      "cell_type": "code",
      "source": [
        "x = ponto.x\n",
        "y = ponto.y\n",
        "\n",
        "print('{} , {}'.format(x, y))"
      ],
      "metadata": {
        "colab": {
          "base_uri": "https://localhost:8080/"
        },
        "id": "0WP0IJeTYPiX",
        "outputId": "1b27ffd8-40f5-4180-bf46-c3f46c6a6384"
      },
      "execution_count": null,
      "outputs": [
        {
          "output_type": "stream",
          "name": "stdout",
          "text": [
            "5.0 , 10.0\n"
          ]
        }
      ]
    },
    {
      "cell_type": "markdown",
      "source": [
        "##### Também pode ser calculado a distância entre dois pontos"
      ],
      "metadata": {
        "id": "-TSMPWCxY-ah"
      }
    },
    {
      "cell_type": "code",
      "source": [
        "ponto_1 = Point(2, 3)\n",
        "ponto_2 = Point(5, 7)\n",
        "\n",
        "distancia = ponto_1. distance(ponto_2)\n",
        "\n",
        "print('A dsitância entre o ponto 1 e 2 ponto 2 é de: {}'.format(distancia))"
      ],
      "metadata": {
        "colab": {
          "base_uri": "https://localhost:8080/"
        },
        "id": "5FT_BNG7ZEA8",
        "outputId": "5a849031-fa27-48a9-8b3e-66eb9a41d7d1"
      },
      "execution_count": null,
      "outputs": [
        {
          "output_type": "stream",
          "name": "stdout",
          "text": [
            "A dsitância entre o ponto 1 e 2 ponto 2 é de: 5.0\n"
          ]
        }
      ]
    },
    {
      "cell_type": "markdown",
      "source": [
        "# Agora vamos criar um objeto linha com o LineString"
      ],
      "metadata": {
        "id": "Q0e03BxlaWEY"
      }
    },
    {
      "cell_type": "code",
      "source": [
        "# Vamos criar mais um ponto para termos três seções de pontos\n",
        "\n",
        "ponto_3 = Point(2, 10)\n",
        "\n",
        "linha = LineString([ponto_1, ponto_2, ponto_3])"
      ],
      "metadata": {
        "id": "tR8l2eJPacCQ"
      },
      "execution_count": null,
      "outputs": []
    },
    {
      "cell_type": "markdown",
      "source": [
        "Vamos Ver como é apresentada a variavel linha"
      ],
      "metadata": {
        "id": "h-NKnYqtbQiR"
      }
    },
    {
      "cell_type": "code",
      "source": [
        "linha"
      ],
      "metadata": {
        "colab": {
          "base_uri": "https://localhost:8080/",
          "height": 121
        },
        "id": "y9Ch-zCTbLw9",
        "outputId": "a072228c-d75f-4fa4-ba95-2910ebcdf9e0"
      },
      "execution_count": null,
      "outputs": [
        {
          "output_type": "execute_result",
          "data": {
            "text/plain": [
              "<shapely.geometry.linestring.LineString at 0x7f2838556ed0>"
            ],
            "image/svg+xml": "<svg xmlns=\"http://www.w3.org/2000/svg\" xmlns:xlink=\"http://www.w3.org/1999/xlink\" width=\"100.0\" height=\"100.0\" viewBox=\"1.72 2.7199999999999998 3.5600000000000005 7.56\" preserveAspectRatio=\"xMinYMin meet\"><g transform=\"matrix(1,0,0,-1,0,13.0)\"><polyline fill=\"none\" stroke=\"#66cc99\" stroke-width=\"0.1512\" points=\"2.0,3.0 5.0,7.0 2.0,10.0\" opacity=\"0.8\" /></g></svg>"
          },
          "metadata": {},
          "execution_count": 13
        }
      ]
    },
    {
      "cell_type": "code",
      "source": [
        "print(linha)"
      ],
      "metadata": {
        "colab": {
          "base_uri": "https://localhost:8080/"
        },
        "id": "gfZfJ7ERbZhj",
        "outputId": "7165dce3-fd16-45da-add3-0911119ba7bf"
      },
      "execution_count": null,
      "outputs": [
        {
          "output_type": "stream",
          "name": "stdout",
          "text": [
            "LINESTRING (2 3, 5 7, 2 10)\n"
          ]
        }
      ]
    },
    {
      "cell_type": "code",
      "source": [
        "type(linha)"
      ],
      "metadata": {
        "colab": {
          "base_uri": "https://localhost:8080/"
        },
        "id": "AxkF7ZRsblv1",
        "outputId": "c0efe64c-0b05-4b4b-fd06-c6d291530f2c"
      },
      "execution_count": null,
      "outputs": [
        {
          "output_type": "execute_result",
          "data": {
            "text/plain": [
              "shapely.geometry.linestring.LineString"
            ]
          },
          "metadata": {},
          "execution_count": 15
        }
      ]
    },
    {
      "cell_type": "markdown",
      "source": [
        "### Assim como o ponto as geometrias de linha possuem atributos e funções importante, bem semelhantes, com a diferença de que a linha é uma seção de pontos que se interligam"
      ],
      "metadata": {
        "id": "Qr71a7B6bysN"
      }
    },
    {
      "cell_type": "code",
      "source": [
        "# Ultilizando a função coords\n",
        "\n",
        "list(linha.coords)"
      ],
      "metadata": {
        "colab": {
          "base_uri": "https://localhost:8080/"
        },
        "id": "B71yB2bucEvU",
        "outputId": "cf21659f-5d64-47f2-a163-db9df5ebc425"
      },
      "execution_count": null,
      "outputs": [
        {
          "output_type": "execute_result",
          "data": {
            "text/plain": [
              "[(2.0, 3.0), (5.0, 7.0), (2.0, 10.0)]"
            ]
          },
          "metadata": {},
          "execution_count": 16
        }
      ]
    },
    {
      "cell_type": "code",
      "source": [
        "linha.xy"
      ],
      "metadata": {
        "colab": {
          "base_uri": "https://localhost:8080/"
        },
        "id": "zM5zkO0GcOQI",
        "outputId": "0f65d0a0-b92d-4d83-ac20-f34a75ac5a4b"
      },
      "execution_count": null,
      "outputs": [
        {
          "output_type": "execute_result",
          "data": {
            "text/plain": [
              "(array('d', [2.0, 5.0, 2.0]), array('d', [3.0, 7.0, 10.0]))"
            ]
          },
          "metadata": {},
          "execution_count": 17
        }
      ]
    },
    {
      "cell_type": "code",
      "source": [
        "coord_x = list(linha.xy[0])\n",
        "coord_y = list(linha.xy[1])\n",
        "\n",
        "print('coordenada x: {}'.format(coord_x))\n",
        "print('coordenada y: {}'.format(coord_y))"
      ],
      "metadata": {
        "colab": {
          "base_uri": "https://localhost:8080/"
        },
        "id": "LeJGA5joc6jM",
        "outputId": "413a1203-d310-42f2-fa77-53a93bf7cea0"
      },
      "execution_count": null,
      "outputs": [
        {
          "output_type": "stream",
          "name": "stdout",
          "text": [
            "coordenada x: [2.0, 5.0, 2.0]\n",
            "coordenada y: [3.0, 7.0, 10.0]\n"
          ]
        }
      ]
    },
    {
      "cell_type": "markdown",
      "source": [
        "### Também é possivel obter o complimento da linha"
      ],
      "metadata": {
        "id": "ynhAIppxdkbg"
      }
    },
    {
      "cell_type": "code",
      "source": [
        "linha.length"
      ],
      "metadata": {
        "colab": {
          "base_uri": "https://localhost:8080/"
        },
        "id": "OCGQXBd8df4V",
        "outputId": "c989a7e1-9627-42ce-bf68-4aef6d7cbf9b"
      },
      "execution_count": null,
      "outputs": [
        {
          "output_type": "execute_result",
          "data": {
            "text/plain": [
              "9.242640687119284"
            ]
          },
          "metadata": {},
          "execution_count": 19
        }
      ]
    },
    {
      "cell_type": "code",
      "source": [
        "linha.centroid"
      ],
      "metadata": {
        "colab": {
          "base_uri": "https://localhost:8080/",
          "height": 121
        },
        "id": "ZpLgixfSdqZd",
        "outputId": "ef602356-2272-4a3a-a785-ee01a37650fb"
      },
      "execution_count": null,
      "outputs": [
        {
          "output_type": "execute_result",
          "data": {
            "text/plain": [
              "<shapely.geometry.point.Point at 0x7f28385831d0>"
            ],
            "image/svg+xml": "<svg xmlns=\"http://www.w3.org/2000/svg\" xmlns:xlink=\"http://www.w3.org/1999/xlink\" width=\"100.0\" height=\"100.0\" viewBox=\"2.5000000000000004 5.606601717798214 1.9999999999999996 2.0\" preserveAspectRatio=\"xMinYMin meet\"><g transform=\"matrix(1,0,0,-1,0,13.213203435596428)\"><circle cx=\"3.5000000000000004\" cy=\"6.606601717798214\" r=\"0.06\" stroke=\"#555555\" stroke-width=\"0.02\" fill=\"#66cc99\" opacity=\"0.6\" /></g></svg>"
          },
          "metadata": {},
          "execution_count": 20
        }
      ]
    },
    {
      "cell_type": "code",
      "source": [
        "print(linha.centroid)"
      ],
      "metadata": {
        "colab": {
          "base_uri": "https://localhost:8080/"
        },
        "id": "rBYhA4jCeBZm",
        "outputId": "981db741-a1a3-4f4e-d927-882ee3d050a5"
      },
      "execution_count": null,
      "outputs": [
        {
          "output_type": "stream",
          "name": "stdout",
          "text": [
            "POINT (3.5 6.606601717798214)\n"
          ]
        }
      ]
    },
    {
      "cell_type": "markdown",
      "source": [
        "# Agroa iremos ver os poligonos"
      ],
      "metadata": {
        "id": "JNXeXvbmeenH"
      }
    },
    {
      "cell_type": "code",
      "source": [
        "# criando uma estrutura de poligono\n",
        "\n",
        "ponto_4 = Point(1, 9)\n",
        "\n",
        "poly = Polygon([ponto_1, ponto_2, ponto_3, ponto_4])\n",
        "\n",
        "poly"
      ],
      "metadata": {
        "colab": {
          "base_uri": "https://localhost:8080/",
          "height": 121
        },
        "id": "_rh6wEy_eigC",
        "outputId": "565ef76f-3d5e-4426-9fb4-70603835c35a"
      },
      "execution_count": null,
      "outputs": [
        {
          "output_type": "execute_result",
          "data": {
            "text/plain": [
              "<shapely.geometry.polygon.Polygon at 0x7f2838589450>"
            ],
            "image/svg+xml": "<svg xmlns=\"http://www.w3.org/2000/svg\" xmlns:xlink=\"http://www.w3.org/1999/xlink\" width=\"100.0\" height=\"100.0\" viewBox=\"0.72 2.7199999999999998 4.5600000000000005 7.56\" preserveAspectRatio=\"xMinYMin meet\"><g transform=\"matrix(1,0,0,-1,0,13.0)\"><path fill-rule=\"evenodd\" fill=\"#66cc99\" stroke=\"#555555\" stroke-width=\"0.1512\" opacity=\"0.6\" d=\"M 2.0,3.0 L 5.0,7.0 L 2.0,10.0 L 1.0,9.0 L 2.0,3.0 z\" /></g></svg>"
          },
          "metadata": {},
          "execution_count": 22
        }
      ]
    },
    {
      "cell_type": "markdown",
      "source": [
        "# Vamos ver o comportamento da variavel poly"
      ],
      "metadata": {
        "id": "IqhAVolLgDB_"
      }
    },
    {
      "cell_type": "code",
      "source": [
        "print(poly)"
      ],
      "metadata": {
        "colab": {
          "base_uri": "https://localhost:8080/"
        },
        "id": "XSntnnTdgHq1",
        "outputId": "e815221b-1803-445d-e642-b43f5c1d4ad4"
      },
      "execution_count": null,
      "outputs": [
        {
          "output_type": "stream",
          "name": "stdout",
          "text": [
            "POLYGON ((2 3, 5 7, 2 10, 1 9, 2 3))\n"
          ]
        }
      ]
    },
    {
      "cell_type": "code",
      "source": [
        "type(poly)"
      ],
      "metadata": {
        "colab": {
          "base_uri": "https://localhost:8080/"
        },
        "id": "-vr6Zg-vgLit",
        "outputId": "f3766fe8-df81-40bb-9759-2c035c3829ce"
      },
      "execution_count": null,
      "outputs": [
        {
          "output_type": "execute_result",
          "data": {
            "text/plain": [
              "shapely.geometry.polygon.Polygon"
            ]
          },
          "metadata": {},
          "execution_count": 24
        }
      ]
    },
    {
      "cell_type": "markdown",
      "source": [
        "# Polígonos Atributos e Funções\n",
        "\n",
        "Assim como os pontos e as linhas os poligonos não ficam para trás em rralaçãoaos atributos e funções, agora podemos calcular áreas de forma muito mais facil do que se fosse apenas linhas e pontos"
      ],
      "metadata": {
        "id": "xmOTaaIAgdyH"
      }
    },
    {
      "cell_type": "code",
      "source": [
        "# Obter coordenas dos poligonos\n",
        "list(poly.exterior.coords)"
      ],
      "metadata": {
        "colab": {
          "base_uri": "https://localhost:8080/"
        },
        "id": "okZhArW2g3gX",
        "outputId": "6e182684-f82b-44ed-f619-676939a7535c"
      },
      "execution_count": null,
      "outputs": [
        {
          "output_type": "execute_result",
          "data": {
            "text/plain": [
              "[(2.0, 3.0), (5.0, 7.0), (2.0, 10.0), (1.0, 9.0), (2.0, 3.0)]"
            ]
          },
          "metadata": {},
          "execution_count": 25
        }
      ]
    },
    {
      "cell_type": "code",
      "source": [
        "#Obter a área de uma polígono\n",
        "poly_area = poly.area\n",
        "\n",
        "print('A área do polígono é de: {}m²'.format(poly_area))"
      ],
      "metadata": {
        "colab": {
          "base_uri": "https://localhost:8080/"
        },
        "id": "EA8d_bc_hIWp",
        "outputId": "64cb9aa8-9ac5-459b-c56a-496ca3714442"
      },
      "execution_count": null,
      "outputs": [
        {
          "output_type": "stream",
          "name": "stdout",
          "text": [
            "A área do polígono é de: 14.0m²\n"
          ]
        }
      ]
    },
    {
      "cell_type": "code",
      "source": [
        "#Obter o ponto centroid de um polígono\n",
        "poly_centro = poly.centroid\n",
        "\n",
        "poly_centro"
      ],
      "metadata": {
        "colab": {
          "base_uri": "https://localhost:8080/",
          "height": 121
        },
        "id": "jgTZl30Bhn6n",
        "outputId": "402f5092-383c-406a-f2e1-990576bfa6ea"
      },
      "execution_count": null,
      "outputs": [
        {
          "output_type": "execute_result",
          "data": {
            "text/plain": [
              "<shapely.geometry.point.Point at 0x7f2838514390>"
            ],
            "image/svg+xml": "<svg xmlns=\"http://www.w3.org/2000/svg\" xmlns:xlink=\"http://www.w3.org/1999/xlink\" width=\"100.0\" height=\"100.0\" viewBox=\"1.666666666666667 5.833333333333334 2.0 2.0\" preserveAspectRatio=\"xMinYMin meet\"><g transform=\"matrix(1,0,0,-1,0,13.666666666666668)\"><circle cx=\"2.666666666666667\" cy=\"6.833333333333334\" r=\"0.06\" stroke=\"#555555\" stroke-width=\"0.02\" fill=\"#66cc99\" opacity=\"0.6\" /></g></svg>"
          },
          "metadata": {},
          "execution_count": 27
        }
      ]
    },
    {
      "cell_type": "code",
      "source": [
        "#Coordenadas do ponto centróid\n",
        "print(poly_centro)"
      ],
      "metadata": {
        "colab": {
          "base_uri": "https://localhost:8080/"
        },
        "id": "j8EczhTyhzLS",
        "outputId": "8242bc44-b62a-48bd-82d7-b5d39d9509bf"
      },
      "execution_count": null,
      "outputs": [
        {
          "output_type": "stream",
          "name": "stdout",
          "text": [
            "POINT (2.666666666666667 6.833333333333334)\n"
          ]
        }
      ]
    },
    {
      "cell_type": "code",
      "source": [
        "#Obter as coordenas do bounding box\n",
        "\n",
        "poly.bounds"
      ],
      "metadata": {
        "colab": {
          "base_uri": "https://localhost:8080/"
        },
        "id": "bbNNws4riGpX",
        "outputId": "d4316979-b7c1-4a98-83fd-a61129cc0ba3"
      },
      "execution_count": null,
      "outputs": [
        {
          "output_type": "execute_result",
          "data": {
            "text/plain": [
              "(1.0, 3.0, 5.0, 10.0)"
            ]
          },
          "metadata": {},
          "execution_count": 29
        }
      ]
    },
    {
      "cell_type": "code",
      "source": [
        "#Obter a linha do exterior\n",
        "\n",
        "poly_exterior = poly.exterior\n",
        "\n",
        "poly_exterior"
      ],
      "metadata": {
        "colab": {
          "base_uri": "https://localhost:8080/",
          "height": 121
        },
        "id": "XNcvUPa3irCr",
        "outputId": "ce2fe8d8-da3a-4579-d091-06fedda6c905"
      },
      "execution_count": null,
      "outputs": [
        {
          "output_type": "execute_result",
          "data": {
            "text/plain": [
              "<shapely.geometry.polygon.LinearRing at 0x7f283f8b0e50>"
            ],
            "image/svg+xml": "<svg xmlns=\"http://www.w3.org/2000/svg\" xmlns:xlink=\"http://www.w3.org/1999/xlink\" width=\"100.0\" height=\"100.0\" viewBox=\"0.72 2.7199999999999998 4.5600000000000005 7.56\" preserveAspectRatio=\"xMinYMin meet\"><g transform=\"matrix(1,0,0,-1,0,13.0)\"><polyline fill=\"none\" stroke=\"#66cc99\" stroke-width=\"0.1512\" points=\"2.0,3.0 5.0,7.0 2.0,10.0 1.0,9.0 2.0,3.0\" opacity=\"0.8\" /></g></svg>"
          },
          "metadata": {},
          "execution_count": 30
        }
      ]
    },
    {
      "cell_type": "code",
      "source": [
        "#obtebdo coordenadas das linhas do exterior do polígono\n",
        "\n",
        "print('Coordenadas do exterior do poligono: {}'.format(poly_exterior))"
      ],
      "metadata": {
        "colab": {
          "base_uri": "https://localhost:8080/"
        },
        "id": "hfP8ypfOjHbd",
        "outputId": "b1aaebee-edd8-4de4-c6b8-39ce0f1d0369"
      },
      "execution_count": null,
      "outputs": [
        {
          "output_type": "stream",
          "name": "stdout",
          "text": [
            "Coordenadas do exterior do poligono: LINEARRING (2 3, 5 7, 2 10, 1 9, 2 3)\n"
          ]
        }
      ]
    },
    {
      "cell_type": "code",
      "source": [
        "#Obter o tamnho da linha exterior\n",
        "\n",
        "tamanho_linha_exterior = poly.exterior.length\n",
        "\n",
        "print('O perimetro do exterior do pligono mede: {}m²'.format(tamanho_linha_exterior))"
      ],
      "metadata": {
        "colab": {
          "base_uri": "https://localhost:8080/"
        },
        "id": "qlr7mmUQjewE",
        "outputId": "435b6134-0dda-4d80-c6a8-e9368830417e"
      },
      "execution_count": null,
      "outputs": [
        {
          "output_type": "stream",
          "name": "stdout",
          "text": [
            "O perimetro do exterior do pligono mede: 16.739616779790598m²\n"
          ]
        }
      ]
    },
    {
      "cell_type": "markdown",
      "source": [
        "# Operações basicas entre geometrias"
      ],
      "metadata": {
        "id": "HiKYqSfCk-OG"
      }
    },
    {
      "cell_type": "code",
      "source": [
        "#Buffer\n",
        "\n",
        "circulo_1 = ponto_1.buffer(5)\n",
        "circulo_2 = ponto_2.buffer(5)\n",
        "\n",
        "circulo_1"
      ],
      "metadata": {
        "colab": {
          "base_uri": "https://localhost:8080/",
          "height": 121
        },
        "id": "eT8q9wUwlDHL",
        "outputId": "107b6822-1f5c-4d60-c926-854bccb71b34"
      },
      "execution_count": null,
      "outputs": [
        {
          "output_type": "execute_result",
          "data": {
            "text/plain": [
              "<shapely.geometry.polygon.Polygon at 0x7f2838556910>"
            ],
            "image/svg+xml": "<svg xmlns=\"http://www.w3.org/2000/svg\" xmlns:xlink=\"http://www.w3.org/1999/xlink\" width=\"100.0\" height=\"100.0\" viewBox=\"-3.4 -2.4 10.8 10.8\" preserveAspectRatio=\"xMinYMin meet\"><g transform=\"matrix(1,0,0,-1,0,6.0)\"><path fill-rule=\"evenodd\" fill=\"#66cc99\" stroke=\"#555555\" stroke-width=\"0.21600000000000003\" opacity=\"0.6\" d=\"M 7.0,3.0 L 6.975923633360985,2.5099142983521974 L 6.903926402016153,2.0245483899193597 L 6.784701678661045,1.5485766137276895 L 6.619397662556435,1.086582838174553 L 6.4096063217417765,0.643016315870014 L 6.157348061512728,0.22214883490199133 L 5.865052266813687,-0.17196642081822455 L 5.53553390593274,-0.5355339059327346 L 5.171966420818231,-0.8650522668136817 L 4.777851165098015,-1.1573480615127236 L 4.356983684129993,-1.409606321741773 L 3.9134171618254543,-1.6193976625564312 L 3.4514233862723183,-1.7847016786610421 L 2.9754516100806483,-1.9039264020161513 L 2.4900857016478106,-1.975923633360983 L 2.000000000000008,-2.0 L 1.5099142983522056,-1.9759236333609849 L 1.0245483899193677,-1.903926402016154 L 0.5485766137276975,-1.7847016786610466 L 0.0865828381745608,-1.6193976625564375 L -0.3569836841299785,-1.40960632174178 L -0.7778511650980025,-1.1573480615127316 L -1.171966420818218,-0.8650522668136928 L -1.5355339059327298,-0.5355339059327457 L -1.8650522668136764,-0.17196642081823788 L -2.157348061512719,0.22214883490197845 L -2.4096063217417685,0.6430163158699989 L -2.6193976625564286,1.0865828381745384 L -2.7847016786610395,1.5485766137276733 L -2.9039264020161495,2.024548389919344 L -2.975923633360983,2.5099142983521805 L -3.0,2.999999999999984 L -2.9759236333609858,3.4900857016477875 L -2.9039264020161557,3.9754516100806243 L -2.7847016786610492,4.451423386272296 L -2.619397662556441,4.913417161825432 L -2.4096063217417836,5.356983684129972 L -2.157348061512737,5.777851165097995 L -1.8650522668136968,6.1719664208182135 L -1.5355339059327524,6.535533905932723 L -1.1719664208182428,6.865052266813672 L -0.7778511650980291,7.157348061512714 L -0.35698368413000914,7.409606321741764 L 0.08658283817453194,7.619397662556426 L 0.5485766137276666,7.784701678661038 L 1.0245483899193348,7.903926402016148 L 1.5099142983521712,7.975923633360982 L 1.999999999999977,8.0 L 2.490085701647778,7.975923633360987 L 2.9754516100806154,7.9039264020161575 L 3.451423386272289,7.784701678661051 L 3.9134171618254254,7.619397662556444 L 4.356983684129965,7.409606321741788 L 4.777851165097987,7.157348061512742 L 5.171966420818207,6.865052266813701 L 5.535533905932718,6.535533905932757 L 5.865052266813667,6.171966420818251 L 6.1573480615127085,5.777851165098037 L 6.409606321741762,5.356983684130013 L 6.619397662556422,4.9134171618254765 L 6.784701678661035,4.451423386272342 L 6.903926402016145,3.975451610080674 L 6.975923633360981,3.4900857016478337 L 7.0,3.0 z\" /></g></svg>"
          },
          "metadata": {},
          "execution_count": 33
        }
      ]
    },
    {
      "cell_type": "code",
      "source": [
        "#Plotando os dois circulos\n",
        "\n",
        "plt.title('Plotagem dos pontos \"circulo_1 e circulo_2\"')\n",
        "x,y = circulo_1.exterior.xy\n",
        "plt.plot(x,y)\n",
        "\n",
        "x,y = circulo_2.exterior.xy\n",
        "plt.plot(x,y)\n",
        "\n",
        "plt.show()"
      ],
      "metadata": {
        "colab": {
          "base_uri": "https://localhost:8080/",
          "height": 281
        },
        "id": "2o0eFaazl2VH",
        "outputId": "a2e956ba-bb60-4a6c-8a8c-5e8fae91f62a"
      },
      "execution_count": null,
      "outputs": [
        {
          "output_type": "display_data",
          "data": {
            "image/png": "[encoded data removed]",
            "text/plain": [
              "<Figure size 432x288 with 1 Axes>"
            ]
          },
          "metadata": {
            "needs_background": "light"
          }
        }
      ]
    },
    {
      "cell_type": "code",
      "source": [
        "#Realizando uma interseção\n",
        "\n",
        "circulo_intersect = circulo_1.intersection(circulo_2)\n",
        "\n",
        "circulo_intersect"
      ],
      "metadata": {
        "colab": {
          "base_uri": "https://localhost:8080/",
          "height": 121
        },
        "id": "SbkbHoQmmuTe",
        "outputId": "deaca60a-296d-401f-cdb3-cac7b3d43b62"
      },
      "execution_count": null,
      "outputs": [
        {
          "output_type": "execute_result",
          "data": {
            "text/plain": [
              "<shapely.geometry.polygon.Polygon at 0x7f28385893d0>"
            ],
            "image/svg+xml": "<svg xmlns=\"http://www.w3.org/2000/svg\" xmlns:xlink=\"http://www.w3.org/1999/xlink\" width=\"100.0\" height=\"100.0\" viewBox=\"-0.28 1.72 7.5600000000000005 6.56\" preserveAspectRatio=\"xMinYMin meet\"><g transform=\"matrix(1,0,0,-1,0,10.0)\"><path fill-rule=\"evenodd\" fill=\"#66cc99\" stroke=\"#555555\" stroke-width=\"0.1512\" opacity=\"0.6\" d=\"M 6.975923633360985,2.5099142983521974 L 6.960010927218395,2.402639547250574 L 6.913417161825454,2.3806023374435688 L 6.451423386272318,2.215298321338958 L 5.975451610080648,2.0960735979838487 L 5.490085701647811,2.024076366639017 L 5.000000000000008,2.0 L 4.509914298352205,2.024076366639015 L 4.024548389919367,2.096073597983846 L 3.5485766137276977,2.2152983213389534 L 3.086582838174561,2.3806023374435625 L 2.6430163158700215,2.59039367825822 L 2.2221488349019975,2.8426519384872684 L 1.828033579181782,3.134947733186307 L 1.4644660940672702,3.4644660940672543 L 1.1349477331863236,3.828033579181762 L 0.8426519384872808,4.2221488349019785 L 0.5903936782582315,4.643016315869999 L 0.3806023374435714,5.086582838174539 L 0.21529832133896054,5.548576613727674 L 0.09607359798385051,6.024548389919344 L 0.02407636663901691,6.5099142983521805 L 0.0,6.999999999999984 L 0.024076366639014246,7.4900857016477875 L 0.03998907278160606,7.597360452749427 L 0.08658283817453194,7.619397662556426 L 0.5485766137276666,7.784701678661038 L 1.0245483899193348,7.903926402016148 L 1.5099142983521712,7.975923633360982 L 1.999999999999977,8.0 L 2.490085701647778,7.975923633360987 L 2.9754516100806154,7.9039264020161575 L 3.451423386272289,7.784701678661051 L 3.9134171618254254,7.619397662556444 L 4.356983684129965,7.409606321741788 L 4.777851165097987,7.157348061512742 L 5.171966420818207,6.865052266813701 L 5.535533905932718,6.535533905932757 L 5.865052266813667,6.171966420818251 L 6.1573480615127085,5.777851165098037 L 6.409606321741762,5.356983684130013 L 6.619397662556422,4.9134171618254765 L 6.784701678661035,4.451423386272342 L 6.903926402016145,3.975451610080674 L 6.975923633360981,3.4900857016478337 L 7.0,3.0 L 6.975923633360985,2.5099142983521974 z\" /></g></svg>"
          },
          "metadata": {},
          "execution_count": 35
        }
      ]
    },
    {
      "cell_type": "code",
      "source": [
        "#realizando união\n",
        "\n",
        "circulo_union = circulo_1.union(circulo_2)\n",
        "\n",
        "circulo_union"
      ],
      "metadata": {
        "colab": {
          "base_uri": "https://localhost:8080/",
          "height": 121
        },
        "id": "DwITAeoMoJTS",
        "outputId": "2083bb0f-1dee-44a5-9896-957281ab67f3"
      },
      "execution_count": null,
      "outputs": [
        {
          "output_type": "execute_result",
          "data": {
            "text/plain": [
              "<shapely.geometry.polygon.Polygon at 0x7f28384af5d0>"
            ],
            "image/svg+xml": "<svg xmlns=\"http://www.w3.org/2000/svg\" xmlns:xlink=\"http://www.w3.org/1999/xlink\" width=\"100.0\" height=\"100.0\" viewBox=\"-3.56 -2.56 14.120000000000001 15.120000000000001\" preserveAspectRatio=\"xMinYMin meet\"><g transform=\"matrix(1,0,0,-1,0,10.0)\"><path fill-rule=\"evenodd\" fill=\"#66cc99\" stroke=\"#555555\" stroke-width=\"0.3024\" opacity=\"0.6\" d=\"M 6.903926402016153,2.0245483899193597 L 6.784701678661045,1.5485766137276895 L 6.619397662556435,1.086582838174553 L 6.4096063217417765,0.643016315870014 L 6.157348061512728,0.22214883490199133 L 5.865052266813687,-0.17196642081822455 L 5.53553390593274,-0.5355339059327346 L 5.171966420818231,-0.8650522668136817 L 4.777851165098015,-1.1573480615127236 L 4.356983684129993,-1.409606321741773 L 3.9134171618254543,-1.6193976625564312 L 3.4514233862723183,-1.7847016786610421 L 2.9754516100806483,-1.9039264020161513 L 2.4900857016478106,-1.975923633360983 L 2.000000000000008,-2.0 L 1.5099142983522056,-1.9759236333609849 L 1.0245483899193677,-1.903926402016154 L 0.5485766137276975,-1.7847016786610466 L 0.0865828381745608,-1.6193976625564375 L -0.3569836841299785,-1.40960632174178 L -0.7778511650980025,-1.1573480615127316 L -1.171966420818218,-0.8650522668136928 L -1.5355339059327298,-0.5355339059327457 L -1.8650522668136764,-0.17196642081823788 L -2.157348061512719,0.22214883490197845 L -2.4096063217417685,0.6430163158699989 L -2.6193976625564286,1.0865828381745384 L -2.7847016786610395,1.5485766137276733 L -2.9039264020161495,2.024548389919344 L -2.975923633360983,2.5099142983521805 L -3.0,2.999999999999984 L -2.9759236333609858,3.4900857016477875 L -2.9039264020161557,3.9754516100806243 L -2.7847016786610492,4.451423386272296 L -2.619397662556441,4.913417161825432 L -2.4096063217417836,5.356983684129972 L -2.157348061512737,5.777851165097995 L -1.8650522668136968,6.1719664208182135 L -1.5355339059327524,6.535533905932723 L -1.1719664208182428,6.865052266813672 L -0.7778511650980291,7.157348061512714 L -0.35698368413000914,7.409606321741764 L 0.03998907278160606,7.597360452749427 L 0.0960735979838443,7.975451610080624 L 0.21529832133895077,8.451423386272296 L 0.380602337443559,8.913417161825432 L 0.5903936782582164,9.356983684129972 L 0.842651938487263,9.777851165097996 L 1.1349477331863032,10.171966420818213 L 1.4644660940672476,10.535533905932724 L 1.8280335791817572,10.865052266813672 L 2.222148834901971,11.157348061512714 L 2.643016315869991,11.409606321741764 L 3.086582838174532,11.619397662556427 L 3.5485766137276666,11.784701678661037 L 4.024548389919335,11.903926402016147 L 4.509914298352172,11.975923633360981 L 4.999999999999977,12.0 L 5.490085701647779,11.975923633360987 L 5.975451610080615,11.903926402016157 L 6.451423386272289,11.784701678661051 L 6.913417161825425,11.619397662556445 L 7.356983684129965,11.409606321741787 L 7.777851165097987,11.157348061512742 L 8.171966420818208,10.865052266813702 L 8.535533905932718,10.535533905932757 L 8.865052266813667,10.17196642081825 L 9.157348061512709,9.777851165098037 L 9.409606321741762,9.356983684130013 L 9.619397662556423,8.913417161825476 L 9.784701678661035,8.451423386272342 L 9.903926402016145,7.9754516100806745 L 9.975923633360981,7.490085701647834 L 10.0,7.0 L 9.975923633360985,6.509914298352197 L 9.903926402016154,6.024548389919359 L 9.784701678661044,5.54857661372769 L 9.619397662556434,5.086582838174553 L 9.409606321741776,4.643016315870014 L 9.157348061512728,4.222148834901992 L 8.865052266813688,3.8280335791817754 L 8.535533905932741,3.4644660940672654 L 8.171966420818231,3.1349477331863183 L 7.777851165098015,2.8426519384872764 L 7.356983684129993,2.590393678258227 L 6.960010927218395,2.402639547250574 L 6.903926402016153,2.0245483899193597 z\" /></g></svg>"
          },
          "metadata": {},
          "execution_count": 36
        }
      ]
    },
    {
      "cell_type": "code",
      "source": [
        "#diferença entre as áreas\n",
        "\n",
        "circulo_diff1 = circulo_1.difference(circulo_2)\n",
        "\n",
        "circulo_diff1"
      ],
      "metadata": {
        "colab": {
          "base_uri": "https://localhost:8080/",
          "height": 121
        },
        "id": "v-hnqv17ohIi",
        "outputId": "1e3f3947-3b19-4ae7-b9fe-5243a0340f73"
      },
      "execution_count": null,
      "outputs": [
        {
          "output_type": "execute_result",
          "data": {
            "text/plain": [
              "<shapely.geometry.polygon.Polygon at 0x7f283850b550>"
            ],
            "image/svg+xml": "<svg xmlns=\"http://www.w3.org/2000/svg\" xmlns:xlink=\"http://www.w3.org/1999/xlink\" width=\"100.0\" height=\"100.0\" viewBox=\"-3.398400437088736 -2.398400437088736 10.756811801395866 10.394161326926898\" preserveAspectRatio=\"xMinYMin meet\"><g transform=\"matrix(1,0,0,-1,0,5.597360452749427)\"><path fill-rule=\"evenodd\" fill=\"#66cc99\" stroke=\"#555555\" stroke-width=\"0.21513623602791732\" opacity=\"0.6\" d=\"M 6.903926402016153,2.0245483899193597 L 6.784701678661045,1.5485766137276895 L 6.619397662556435,1.086582838174553 L 6.4096063217417765,0.643016315870014 L 6.157348061512728,0.22214883490199133 L 5.865052266813687,-0.17196642081822455 L 5.53553390593274,-0.5355339059327346 L 5.171966420818231,-0.8650522668136817 L 4.777851165098015,-1.1573480615127236 L 4.356983684129993,-1.409606321741773 L 3.9134171618254543,-1.6193976625564312 L 3.4514233862723183,-1.7847016786610421 L 2.9754516100806483,-1.9039264020161513 L 2.4900857016478106,-1.975923633360983 L 2.000000000000008,-2.0 L 1.5099142983522056,-1.9759236333609849 L 1.0245483899193677,-1.903926402016154 L 0.5485766137276975,-1.7847016786610466 L 0.0865828381745608,-1.6193976625564375 L -0.3569836841299785,-1.40960632174178 L -0.7778511650980025,-1.1573480615127316 L -1.171966420818218,-0.8650522668136928 L -1.5355339059327298,-0.5355339059327457 L -1.8650522668136764,-0.17196642081823788 L -2.157348061512719,0.22214883490197845 L -2.4096063217417685,0.6430163158699989 L -2.6193976625564286,1.0865828381745384 L -2.7847016786610395,1.5485766137276733 L -2.9039264020161495,2.024548389919344 L -2.975923633360983,2.5099142983521805 L -3.0,2.999999999999984 L -2.9759236333609858,3.4900857016477875 L -2.9039264020161557,3.9754516100806243 L -2.7847016786610492,4.451423386272296 L -2.619397662556441,4.913417161825432 L -2.4096063217417836,5.356983684129972 L -2.157348061512737,5.777851165097995 L -1.8650522668136968,6.1719664208182135 L -1.5355339059327524,6.535533905932723 L -1.1719664208182428,6.865052266813672 L -0.7778511650980291,7.157348061512714 L -0.35698368413000914,7.409606321741764 L 0.03998907278160606,7.597360452749427 L 0.024076366639014246,7.4900857016477875 L 0.0,6.999999999999984 L 0.02407636663901691,6.5099142983521805 L 0.09607359798385051,6.024548389919344 L 0.21529832133896054,5.548576613727674 L 0.3806023374435714,5.086582838174539 L 0.5903936782582315,4.643016315869999 L 0.8426519384872808,4.2221488349019785 L 1.1349477331863236,3.828033579181762 L 1.4644660940672702,3.4644660940672543 L 1.828033579181782,3.134947733186307 L 2.2221488349019975,2.8426519384872684 L 2.6430163158700215,2.59039367825822 L 3.086582838174561,2.3806023374435625 L 3.5485766137276977,2.2152983213389534 L 4.024548389919367,2.096073597983846 L 4.509914298352205,2.024076366639015 L 5.000000000000008,2.0 L 5.490085701647811,2.024076366639017 L 5.975451610080648,2.0960735979838487 L 6.451423386272318,2.215298321338958 L 6.913417161825454,2.3806023374435688 L 6.960010927218395,2.402639547250574 L 6.903926402016153,2.0245483899193597 z\" /></g></svg>"
          },
          "metadata": {},
          "execution_count": 37
        }
      ]
    },
    {
      "cell_type": "code",
      "source": [
        "circulo_diff2 = circulo_2.difference(circulo_1)\n",
        "\n",
        "circulo_diff2"
      ],
      "metadata": {
        "colab": {
          "base_uri": "https://localhost:8080/",
          "height": 121
        },
        "id": "_3sOnIYAo_Vb",
        "outputId": "4fadb2ba-14c7-4105-c81b-479d2f7c150f"
      },
      "execution_count": null,
      "outputs": [
        {
          "output_type": "execute_result",
          "data": {
            "text/plain": [
              "<shapely.geometry.polygon.Polygon at 0x7f28384af4d0>"
            ],
            "image/svg+xml": "<svg xmlns=\"http://www.w3.org/2000/svg\" xmlns:xlink=\"http://www.w3.org/1999/xlink\" width=\"100.0\" height=\"100.0\" viewBox=\"-0.35841136430712967 2.004239110161838 10.756811801395866 10.394161326926898\" preserveAspectRatio=\"xMinYMin meet\"><g transform=\"matrix(1,0,0,-1,0,14.402639547250573)\"><path fill-rule=\"evenodd\" fill=\"#66cc99\" stroke=\"#555555\" stroke-width=\"0.21513623602791732\" opacity=\"0.6\" d=\"M 9.975923633360985,6.509914298352197 L 9.903926402016154,6.024548389919359 L 9.784701678661044,5.54857661372769 L 9.619397662556434,5.086582838174553 L 9.409606321741776,4.643016315870014 L 9.157348061512728,4.222148834901992 L 8.865052266813688,3.8280335791817754 L 8.535533905932741,3.4644660940672654 L 8.171966420818231,3.1349477331863183 L 7.777851165098015,2.8426519384872764 L 7.356983684129993,2.590393678258227 L 6.960010927218395,2.402639547250574 L 6.975923633360985,2.5099142983521974 L 7.0,3.0 L 6.975923633360981,3.4900857016478337 L 6.903926402016145,3.975451610080674 L 6.784701678661035,4.451423386272342 L 6.619397662556422,4.9134171618254765 L 6.409606321741762,5.356983684130013 L 6.1573480615127085,5.777851165098037 L 5.865052266813667,6.171966420818251 L 5.535533905932718,6.535533905932757 L 5.171966420818207,6.865052266813701 L 4.777851165097987,7.157348061512742 L 4.356983684129965,7.409606321741788 L 3.9134171618254254,7.619397662556444 L 3.451423386272289,7.784701678661051 L 2.9754516100806154,7.9039264020161575 L 2.490085701647778,7.975923633360987 L 1.999999999999977,8.0 L 1.5099142983521712,7.975923633360982 L 1.0245483899193348,7.903926402016148 L 0.5485766137276666,7.784701678661038 L 0.08658283817453194,7.619397662556426 L 0.03998907278160606,7.597360452749427 L 0.0960735979838443,7.975451610080624 L 0.21529832133895077,8.451423386272296 L 0.380602337443559,8.913417161825432 L 0.5903936782582164,9.356983684129972 L 0.842651938487263,9.777851165097996 L 1.1349477331863032,10.171966420818213 L 1.4644660940672476,10.535533905932724 L 1.8280335791817572,10.865052266813672 L 2.222148834901971,11.157348061512714 L 2.643016315869991,11.409606321741764 L 3.086582838174532,11.619397662556427 L 3.5485766137276666,11.784701678661037 L 4.024548389919335,11.903926402016147 L 4.509914298352172,11.975923633360981 L 4.999999999999977,12.0 L 5.490085701647779,11.975923633360987 L 5.975451610080615,11.903926402016157 L 6.451423386272289,11.784701678661051 L 6.913417161825425,11.619397662556445 L 7.356983684129965,11.409606321741787 L 7.777851165097987,11.157348061512742 L 8.171966420818208,10.865052266813702 L 8.535533905932718,10.535533905932757 L 8.865052266813667,10.17196642081825 L 9.157348061512709,9.777851165098037 L 9.409606321741762,9.356983684130013 L 9.619397662556423,8.913417161825476 L 9.784701678661035,8.451423386272342 L 9.903926402016145,7.9754516100806745 L 9.975923633360981,7.490085701647834 L 10.0,7.0 L 9.975923633360985,6.509914298352197 z\" /></g></svg>"
          },
          "metadata": {},
          "execution_count": 38
        }
      ]
    },
    {
      "cell_type": "code",
      "source": [
        "#Diferença simétrica\n",
        "\n",
        "circulo_simetri = circulo_1.symmetric_difference(circulo_2)\n",
        "\n",
        "circulo_simetri"
      ],
      "metadata": {
        "colab": {
          "base_uri": "https://localhost:8080/",
          "height": 121
        },
        "id": "ScMM32A2pVLk",
        "outputId": "aaa66c2d-ccd1-4455-a5e0-21f1f6862d5a"
      },
      "execution_count": null,
      "outputs": [
        {
          "output_type": "execute_result",
          "data": {
            "text/plain": [
              "<shapely.geometry.multipolygon.MultiPolygon at 0x7f2838008fd0>"
            ],
            "image/svg+xml": "<svg xmlns=\"http://www.w3.org/2000/svg\" xmlns:xlink=\"http://www.w3.org/1999/xlink\" width=\"100.0\" height=\"100.0\" viewBox=\"-3.56 -2.56 14.120000000000001 15.120000000000001\" preserveAspectRatio=\"xMinYMin meet\"><g transform=\"matrix(1,0,0,-1,0,10.0)\"><g><path fill-rule=\"evenodd\" fill=\"#66cc99\" stroke=\"#555555\" stroke-width=\"0.3024\" opacity=\"0.6\" d=\"M 6.975923633360985,2.5099142983521974 L 7.0,3.0 L 6.975923633360981,3.4900857016478337 L 6.903926402016145,3.975451610080674 L 6.784701678661035,4.451423386272342 L 6.619397662556422,4.9134171618254765 L 6.409606321741762,5.356983684130013 L 6.1573480615127085,5.777851165098037 L 5.865052266813667,6.171966420818251 L 5.535533905932718,6.535533905932757 L 5.171966420818207,6.865052266813701 L 4.777851165097987,7.157348061512742 L 4.356983684129965,7.409606321741788 L 3.9134171618254254,7.619397662556444 L 3.451423386272289,7.784701678661051 L 2.9754516100806154,7.9039264020161575 L 2.490085701647778,7.975923633360987 L 1.999999999999977,8.0 L 1.5099142983521712,7.975923633360982 L 1.0245483899193348,7.903926402016148 L 0.5485766137276666,7.784701678661038 L 0.08658283817453194,7.619397662556426 L 0.03998907278160606,7.597360452749427 L 0.0960735979838443,7.975451610080624 L 0.21529832133895077,8.451423386272296 L 0.380602337443559,8.913417161825432 L 0.5903936782582164,9.356983684129972 L 0.842651938487263,9.777851165097996 L 1.1349477331863032,10.171966420818213 L 1.4644660940672476,10.535533905932724 L 1.8280335791817572,10.865052266813672 L 2.222148834901971,11.157348061512714 L 2.643016315869991,11.409606321741764 L 3.086582838174532,11.619397662556427 L 3.5485766137276666,11.784701678661037 L 4.024548389919335,11.903926402016147 L 4.509914298352172,11.975923633360981 L 4.999999999999977,12.0 L 5.490085701647779,11.975923633360987 L 5.975451610080615,11.903926402016157 L 6.451423386272289,11.784701678661051 L 6.913417161825425,11.619397662556445 L 7.356983684129965,11.409606321741787 L 7.777851165097987,11.157348061512742 L 8.171966420818208,10.865052266813702 L 8.535533905932718,10.535533905932757 L 8.865052266813667,10.17196642081825 L 9.157348061512709,9.777851165098037 L 9.409606321741762,9.356983684130013 L 9.619397662556423,8.913417161825476 L 9.784701678661035,8.451423386272342 L 9.903926402016145,7.9754516100806745 L 9.975923633360981,7.490085701647834 L 10.0,7.0 L 9.975923633360985,6.509914298352197 L 9.903926402016154,6.024548389919359 L 9.784701678661044,5.54857661372769 L 9.619397662556434,5.086582838174553 L 9.409606321741776,4.643016315870014 L 9.157348061512728,4.222148834901992 L 8.865052266813688,3.8280335791817754 L 8.535533905932741,3.4644660940672654 L 8.171966420818231,3.1349477331863183 L 7.777851165098015,2.8426519384872764 L 7.356983684129993,2.590393678258227 L 6.960010927218395,2.402639547250574 L 6.975923633360985,2.5099142983521974 z\" /><path fill-rule=\"evenodd\" fill=\"#66cc99\" stroke=\"#555555\" stroke-width=\"0.3024\" opacity=\"0.6\" d=\"M 6.903926402016153,2.0245483899193597 L 6.784701678661045,1.5485766137276895 L 6.619397662556435,1.086582838174553 L 6.4096063217417765,0.643016315870014 L 6.157348061512728,0.22214883490199133 L 5.865052266813687,-0.17196642081822455 L 5.53553390593274,-0.5355339059327346 L 5.171966420818231,-0.8650522668136817 L 4.777851165098015,-1.1573480615127236 L 4.356983684129993,-1.409606321741773 L 3.9134171618254543,-1.6193976625564312 L 3.4514233862723183,-1.7847016786610421 L 2.9754516100806483,-1.9039264020161513 L 2.4900857016478106,-1.975923633360983 L 2.000000000000008,-2.0 L 1.5099142983522056,-1.9759236333609849 L 1.0245483899193677,-1.903926402016154 L 0.5485766137276975,-1.7847016786610466 L 0.0865828381745608,-1.6193976625564375 L -0.3569836841299785,-1.40960632174178 L -0.7778511650980025,-1.1573480615127316 L -1.171966420818218,-0.8650522668136928 L -1.5355339059327298,-0.5355339059327457 L -1.8650522668136764,-0.17196642081823788 L -2.157348061512719,0.22214883490197845 L -2.4096063217417685,0.6430163158699989 L -2.6193976625564286,1.0865828381745384 L -2.7847016786610395,1.5485766137276733 L -2.9039264020161495,2.024548389919344 L -2.975923633360983,2.5099142983521805 L -3.0,2.999999999999984 L -2.9759236333609858,3.4900857016477875 L -2.9039264020161557,3.9754516100806243 L -2.7847016786610492,4.451423386272296 L -2.619397662556441,4.913417161825432 L -2.4096063217417836,5.356983684129972 L -2.157348061512737,5.777851165097995 L -1.8650522668136968,6.1719664208182135 L -1.5355339059327524,6.535533905932723 L -1.1719664208182428,6.865052266813672 L -0.7778511650980291,7.157348061512714 L -0.35698368413000914,7.409606321741764 L 0.03998907278160606,7.597360452749427 L 0.024076366639014246,7.4900857016477875 L 0.0,6.999999999999984 L 0.02407636663901691,6.5099142983521805 L 0.09607359798385051,6.024548389919344 L 0.21529832133896054,5.548576613727674 L 0.3806023374435714,5.086582838174539 L 0.5903936782582315,4.643016315869999 L 0.8426519384872808,4.2221488349019785 L 1.1349477331863236,3.828033579181762 L 1.4644660940672702,3.4644660940672543 L 1.828033579181782,3.134947733186307 L 2.2221488349019975,2.8426519384872684 L 2.6430163158700215,2.59039367825822 L 3.086582838174561,2.3806023374435625 L 3.5485766137276977,2.2152983213389534 L 4.024548389919367,2.096073597983846 L 4.509914298352205,2.024076366639015 L 5.000000000000008,2.0 L 5.490085701647811,2.024076366639017 L 5.975451610080648,2.0960735979838487 L 6.451423386272318,2.215298321338958 L 6.913417161825454,2.3806023374435688 L 6.960010927218395,2.402639547250574 L 6.903926402016153,2.0245483899193597 z\" /></g></g></svg>"
          },
          "metadata": {},
          "execution_count": 39
        }
      ]
    },
    {
      "cell_type": "markdown",
      "source": [
        "# Resumo dessa aula\n",
        "  - Foi criado objetos de pontos linhas e poligonos\n",
        "  - Froam usadas funções básicas  dos objetos  geometricos\n",
        "  - Foram realizadas operações entre os GeoDataFrames"
      ],
      "metadata": {
        "id": "mLEqUMOOqdYj"
      }
    }
  ]
}